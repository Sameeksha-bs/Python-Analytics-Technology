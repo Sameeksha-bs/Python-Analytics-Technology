{
 "cells": [
  {
   "cell_type": "markdown",
   "metadata": {},
   "source": [
    "# Week 1 Assignment\n",
    "\n",
    "* Download the \"Week_1_Assignment.ipynb\" notebook \n",
    "* Fill in the code in the cells marked with `# YOUR ANSWER HERE:` by answering the question/task defined in the cell above it starting with `GRADED:`\n",
    "* `VERY IMPORTANT`: Code cells outside of `# YOUR ANSWER HERE:` will not be considered for grading. \n",
    "  * Feel free to write outside of it for debugging\n",
    "* `DO NOT` fill your asnwers with many `print` statements. Only use `print` if the assignment asked explcitly. For example, if you are asked to write a function to calculate the sum of two numbers--the function should return that value, `NOT` a `print` statement of the value.\n",
    "* Submit the updated notebook\n",
    "  * Make sure to save your changes before submitting it!"
   ]
  },
  {
   "cell_type": "code",
   "execution_count": 53,
   "metadata": {},
   "outputs": [],
   "source": [
    "#Import necessary libraries\n",
    "import pandas as pd\n",
    "import numpy as np\n",
    "import math"
   ]
  },
  {
   "cell_type": "markdown",
   "metadata": {},
   "source": [
    "`GRADED [1]`: Provided below are functions that are:\n",
    "- completely defined: `add_numbers`;\n",
    "- partially defined: `min_square`; _and_\n",
    "- not defined at all: `sum_squares`\n",
    "\n",
    " 1. Complete `min_square` so that it returns the minimum of (square root of `a` and square root of `b`)\n",
    " 2. Write a function called `sum_squares` that returns the sum of the square root of `a` and the square root of `b`."
   ]
  },
  {
   "cell_type": "code",
   "execution_count": 54,
   "metadata": {},
   "outputs": [],
   "source": [
    "# [1] YOUR ANSWER HERE:\n",
    "\n",
    "def add_numbers(x, y):\n",
    "    result = x + y\n",
    "    return result\n",
    "\n",
    "def min_square(a, b):\n",
    "    # Write code to return the lower of (minimum of) square root of a and square root of b\n",
    "    result =  min(math.sqrt(a), math.sqrt(b)) # Replace None with your code\n",
    "    return result\n",
    "\n",
    "def sum_squares(a, b):\n",
    "    result = math.sqrt(a) + math.sqrt(b)\n",
    "    return result\n"
   ]
  },
  {
   "cell_type": "markdown",
   "metadata": {},
   "source": [
    "`GRADED [2]`: Write a function called `personal_info` that takes a a last name, age, and a home town (a total of 3 arguments) and returns a full sentence string with the following content and format: `Your last name is [name], you are [age] years old, and you live in [city].`--where the values in square brackets are the actual values of the tree arguments provided by the function. Please make sure that you follow the format and grammar of the sentence exactly as defined and that you use `f-string` Python string formatting--any other type of formatting will receive reduced points.\n",
    "_Hint_: Your string shold follow the Python f-strings formatting functionality. https://realpython.com/python-f-strings/"
   ]
  },
  {
   "cell_type": "code",
   "execution_count": 63,
   "metadata": {},
   "outputs": [],
   "source": [
    "# [2] YOUR ANSER HERE: \n",
    "def personal_info(last_name, age, home_town):\n",
    "    return f'Your last name is {last_name}, you are {age} years old, and you live in {home_town}.'"
   ]
  },
  {
   "cell_type": "code",
   "execution_count": 64,
   "metadata": {},
   "outputs": [
    {
     "data": {
      "text/plain": [
       "'Your last name is Smith, you are 30 years old, and you live in Boston.'"
      ]
     },
     "execution_count": 64,
     "metadata": {},
     "output_type": "execute_result"
    }
   ],
   "source": [
    "personal_info('Smith', 30, 'Boston')  # please do not modify this cell"
   ]
  },
  {
   "cell_type": "markdown",
   "metadata": {
    "collapsed": true
   },
   "source": [
    "`GRADED [3]`: Using a `while` loop: loop over every sequential _odd_ number between `2` and `19` (__`inclusive`__); in the same `while` loop print __`only`__ every 3rd sequential of those odd numnbers you have encountered in the loop."
   ]
  },
  {
   "cell_type": "code",
   "execution_count": 60,
   "metadata": {},
   "outputs": [
    {
     "name": "stdout",
     "output_type": "stream",
     "text": [
      "7\n",
      "13\n",
      "19\n"
     ]
    }
   ],
   "source": [
    "# [3] YOUR ANSER HERE:\n",
    "current_number = 2 # Start with the first odd number\n",
    "count = 0  # Initialize a counter\n",
    "\n",
    "while current_number <= 19:\n",
    "    if current_number % 2 == 1:  # Check if it's an odd number\n",
    "        count += 1\n",
    "        if count % 3 == 0:  # Print every 3rd sequential odd number\n",
    "            print(current_number)\n",
    "    current_number += 1  # Increment the counter"
   ]
  },
  {
   "cell_type": "markdown",
   "metadata": {},
   "source": [
    "`GRADED [4]`: Define a function called `length_converter` that takes as an argument a length in `meters` and __prints__ the equivalent distance in `miles` using the following sentence: `Original length was [..] meters, which equals [..] miles.`"
   ]
  },
  {
   "cell_type": "code",
   "execution_count": 61,
   "metadata": {},
   "outputs": [],
   "source": [
    "# [4] YOUR ANSWER HERE:\n",
    "def length_converter(length_meters):\n",
    "    length_miles = length_meters * 0.000621371  # 1 meter is approximately 0.000621371 miles\n",
    "    print(f'Original length was {length_meters} meters, which equals {length_miles} miles.')"
   ]
  },
  {
   "cell_type": "code",
   "execution_count": 62,
   "metadata": {},
   "outputs": [
    {
     "name": "stdout",
     "output_type": "stream",
     "text": [
      "Original length was 5000 meters, which equals 3.106855 miles.\n"
     ]
    }
   ],
   "source": [
    "length_converter(5000)  # please do not modify this cell"
   ]
  }
 ],
 "metadata": {
  "kernelspec": {
   "display_name": "Python 3 (ipykernel)",
   "language": "python",
   "name": "python3"
  },
  "language_info": {
   "codemirror_mode": {
    "name": "ipython",
    "version": 3
   },
   "file_extension": ".py",
   "mimetype": "text/x-python",
   "name": "python",
   "nbconvert_exporter": "python",
   "pygments_lexer": "ipython3",
   "version": "3.11.5"
  }
 },
 "nbformat": 4,
 "nbformat_minor": 2
}
